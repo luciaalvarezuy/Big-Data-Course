{
 "cells": [
  {
   "cell_type": "markdown",
   "id": "572a8d2a",
   "metadata": {},
   "source": [
    "# Ejercicio práctico – Análisis de palabras con Hadoop\n",
    "\n",
    "## Objetivo\n",
    "Aplicar el programa **WordCount** de Hadoop para comparar la frecuencia de palabras en distintos textos y comprender el funcionamiento del modelo **MapReduce**.\n"
   ]
  },
  {
   "cell_type": "markdown",
   "id": "ad233dc5",
   "metadata": {},
   "source": [
    "## Preparación del entorno\n",
    "\n",
    "Asegúrate de tener instalado y configurado Hadoop correctamente (por ejemplo, siguiendo los pasos del práctico anterior).\n",
    "\n",
    "Crearemos una carpeta de trabajo llamada `ejemplo_mapreduce`.  \n",
    "Si ya existe, podés **entrar** en ella o **borrarla y recrearla**.\n"
   ]
  },
  {
   "cell_type": "code",
   "execution_count": null,
   "id": "83c5569e",
   "metadata": {},
   "outputs": [
    {
     "ename": "",
     "evalue": "",
     "output_type": "error",
     "traceback": [
      "\u001b[1;31mRunning cells with 'Python 3.11.9' requires the ipykernel package.\n",
      "\u001b[1;31m<a href='command:jupyter.createPythonEnvAndSelectController'>Create a Python Environment</a> with the required packages.\n",
      "\u001b[1;31mOr install 'ipykernel' using the command: 'c:/Users/lucia.alvarez/AppData/Local/Microsoft/WindowsApps/python3.11.exe -m pip install ipykernel -U --user --force-reinstall'"
     ]
    }
   ],
   "source": [
    "# Crear carpeta de trabajo\n",
    "mkdir ejemplo_mapreduce\n",
    "\n",
    "# Si ya existe, usar una de estas opciones:\n",
    "# Opción 1: Entrar a la carpeta\n",
    "cd ejemplo_mapreduce\n",
    "\n",
    "# Opción 2: Borrar y volver a crear (⚠️ elimina todo su contenido)\n",
    "# rm -r ejemplo_mapreduce\n",
    "# mkdir ejemplo_mapreduce\n",
    "# cd ejemplo_mapreduce\n"
   ]
  },
  {
   "cell_type": "markdown",
   "id": "631674d7",
   "metadata": {},
   "source": [
    "## 1. Crear los archivos de texto\n",
    "\n",
    "Creamos tres archivos que usaremos como entrada:  \n",
    "`cuento.txt`, `noticia.txt` y `song.txt`.\n",
    "\n",
    "Luego, editamos cada uno con `nano` y agregamos un texto corto con palabras repetidas.\n"
   ]
  },
  {
   "cell_type": "code",
   "execution_count": null,
   "id": "ab9b9b7b",
   "metadata": {},
   "outputs": [],
   "source": [
    "# Crear los tres archivos\n",
    "touch cuento.txt noticia.txt song.txt\n",
    "\n",
    "# Editar cada uno (usar nano desde terminal)\n",
    "# Ejemplo de contenido:\n",
    "\n",
    "# cuento.txt\n",
    "# Érase una vez un pequeño pueblo donde vivía una niña llamada Ana.\n",
    "# Ana caminaba todos los días hacia el bosque.\n",
    "\n",
    "# noticia.txt\n",
    "# El gobierno anunció nuevas medidas económicas.\n",
    "# Los ciudadanos esperan una mejora en los próximos meses.\n",
    "\n",
    "# song.txt\n",
    "# Big data, big dreams, hadoop in the sky.\n",
    "# Learning every day, big data will fly.\n"
   ]
  },
  {
   "cell_type": "markdown",
   "id": "3ff27561",
   "metadata": {},
   "source": [
    "##  2. Ejecutar el conteo de palabras\n",
    "\n",
    "El comando principal para ejecutar WordCount en Hadoop es:\n",
    "\n",
    "```bash\n",
    "hadoop jar hadoop-mapreduce-examples-3.3.6.jar wordcount <archivo>.txt <output>\n"
   ]
  },
  {
   "cell_type": "code",
   "execution_count": null,
   "id": "d0fc695b",
   "metadata": {},
   "outputs": [],
   "source": [
    "# Ejecutar el conteo de palabras para cada archivo\n",
    "hadoop jar hadoop-mapreduce-examples-3.3.6.jar wordcount cuento.txt output_cuento\n",
    "\n",
    "hadoop jar hadoop-mapreduce-examples-3.3.6.jar wordcount noticia.txt output_noticia\n",
    "\n",
    "\n",
    "hadoop jar hadoop-mapreduce-examples-3.3.6.jar wordcount song.txt output_song\n"
   ]
  },
  {
   "cell_type": "markdown",
   "id": "2cbb3c16",
   "metadata": {},
   "source": [
    "###  Si aparece este error:\n",
    "\n",
    "```bash\n",
    "JAR does not exist or is not a normal file: /home/eurecat/ejemplo_mapreduce/hadoop-mapreduce-examples-3.3.6.jar\n",
    "\n",
    "\n",
    "Significa que Hadoop no encuentra el archivo `.jar`.\n",
    "\n"
   ]
  },
  {
   "cell_type": "code",
   "execution_count": null,
   "id": "3a5ed017",
   "metadata": {},
   "outputs": [
    {
     "ename": "",
     "evalue": "",
     "output_type": "error",
     "traceback": [
      "\u001b[1;31mRunning cells with 'Python 3.11.9' requires the ipykernel package.\n",
      "\u001b[1;31m<a href='command:jupyter.createPythonEnvAndSelectController'>Create a Python Environment</a> with the required packages.\n",
      "\u001b[1;31mOr install 'ipykernel' using the command: 'c:/Users/lucia.alvarez/AppData/Local/Microsoft/WindowsApps/python3.11.exe -m pip install ipykernel -U --user --force-reinstall'"
     ]
    }
   ],
   "source": [
    "### Solución:\n",
    "# 1. Verifica si el archivo existe:\n",
    "\n",
    "ls -l"
   ]
  },
  {
   "cell_type": "code",
   "execution_count": null,
   "id": "adae95cd",
   "metadata": {},
   "outputs": [],
   "source": [
    "# Si no está, descargalo:\n",
    "wget https://repo1.maven.org/maven2/org/apache/hadoop/hadoop-mapreduce-examples/3.3.6/hadoop-mapreduce-examples-3.3.6.jar\n"
   ]
  },
  {
   "cell_type": "code",
   "execution_count": null,
   "id": "aa6bccc8",
   "metadata": {},
   "outputs": [],
   "source": [
    "# Confirmá la descarga:\n",
    "\n",
    "ls -l hadoop-mapreduce-examples-3.3.6.jar\n"
   ]
  },
  {
   "cell_type": "code",
   "execution_count": null,
   "id": "ad33b6ab",
   "metadata": {},
   "outputs": [],
   "source": [
    "# Volvé a ejecutar el comando WordCount.\n",
    "hadoop jar hadoop-mapreduce-examples-3.3.6.jar wordcount cuento.txt output_cuento\n",
    "\n",
    "\n",
    "hadoop jar hadoop-mapreduce-examples-3.3.6.jar wordcount noticia.txt output_noticia\n",
    "\n",
    "\n",
    "hadoop jar hadoop-mapreduce-examples-3.3.6.jar wordcount song.txt output_song\n",
    "\n"
   ]
  },
  {
   "cell_type": "code",
   "execution_count": null,
   "id": "dd2ac7d7",
   "metadata": {},
   "outputs": [],
   "source": [
    "# Para visualizar los resultados:\n",
    "\n",
    "cat output_cuento/part-r-00000\n",
    "\n",
    "\n",
    "cat output_noticia/part-r-00000\n",
    "\n",
    "\n",
    "cat output_song/part-r-00000"
   ]
  },
  {
   "cell_type": "markdown",
   "id": "ac839b83",
   "metadata": {},
   "source": [
    "## 4. Evaluar los resultados\n",
    "\n",
    "Preguntas para reflexionar:\n",
    "- ¿Qué texto tiene más repeticiones de palabras?\n",
    "- ¿Qué palabra aparece más veces?\n",
    "- ¿Qué pasa si combinamos los tres textos en uno solo?\n",
    "\n",
    "Podemos probarlo así:"
   ]
  },
  {
   "cell_type": "code",
   "execution_count": null,
   "id": "b23476e4",
   "metadata": {},
   "outputs": [],
   "source": [
    "cat cuento.txt noticia.txt song.txt > combinado.txt\n",
    "\n",
    "hadoop jar hadoop-mapreduce-examples-3.3.6.jar wordcount combinado.txt output_combinado\n",
    "\n",
    "cat output_combinado/part-r-00000\n"
   ]
  },
  {
   "cell_type": "markdown",
   "id": "f54e6bf1",
   "metadata": {},
   "source": [
    "## Conclusión\n",
    "\n",
    "Este ejercicio muestra cómo **Hadoop divide, distribuye y combina resultados** para procesar grandes volúmenes de texto de forma eficiente.\n",
    "\n",
    "El clásico ejemplo **WordCount** es la base de MapReduce: trabaja con pares *clave–valor*  \n",
    "y permite escalar tareas simples, como contar palabras, a millones de registros distribuidos en distintos nodos.\n",
    "\n",
    "> 🟣 Si entendemos cómo Hadoop cuenta palabras, entendemos cómo procesa logs, ventas o clics a gran escala.\n"
   ]
  },
  {
   "cell_type": "markdown",
   "id": "34cd5c7f",
   "metadata": {},
   "source": []
  },
  {
   "cell_type": "markdown",
   "id": "7092980d",
   "metadata": {},
   "source": []
  },
  {
   "cell_type": "markdown",
   "id": "801f022a",
   "metadata": {},
   "source": []
  }
 ],
 "metadata": {
  "kernelspec": {
   "display_name": "Python 3",
   "language": "python",
   "name": "python3"
  },
  "language_info": {
   "name": "python",
   "version": "3.11.9"
  }
 },
 "nbformat": 4,
 "nbformat_minor": 5
}
