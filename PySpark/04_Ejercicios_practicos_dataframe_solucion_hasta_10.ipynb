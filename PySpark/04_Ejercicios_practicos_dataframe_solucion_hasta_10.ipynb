{
  "cells": [
    {
      "cell_type": "markdown",
      "metadata": {
        "id": "lIkQ6-5yZHTt"
      },
      "source": [
        "## Ejercicio práctico\n",
        "\n",
        "Este notebook contiene una serie de ejercicios prácticos enfocados en repasar las primeras etapas del análisis exploratorio de datos (EDA) con **PySpark**, específicamente las **estadísticas descriptivas** y la inspección básica de DataFrames.\n",
        "\n",
        "| Comando | Función Principal | Descripción Detallada | Ejemplo Práctico |\n",
        "| :--- | :--- | :--- | :--- |\n",
        "| **Inspección de Estructura** | | | |\n",
        "| `printSchema()` | Muestra la **estructura y tipos** de datos. | Imprime el esquema, nombres de columnas y sus tipos de datos (incluyendo nulabilidad). | \\`df.printSchema()\\` |\n",
        "| `schema` | Obtiene el objeto **StructType** del esquema. | Devuelve el esquema del DataFrame como un objeto programable (\\`StructType\\`). | \\`df.schema\\` |\n",
        "| `columns` | Lista de **nombres de columnas**. | Devuelve una lista de cadenas con los nombres de todas las columnas. | \\`df.columns\\` |\n",
        "| `dtypes` | Lista de **nombres y tipos**. | Devuelve una lista de tuplas con el nombre de la columna y su tipo de dato. | \\`df.dtypes\\` |\n",
        "| **Visualización y Muestreo** | | | |\n",
        "| `show(n)` | Muestra las **primeras *n* filas**. | Muestra los datos del DataFrame en formato de tabla en la consola. | \\`df.show(5)\\` |\n",
        "| `head(n)` | Devuelve las primeras *n* filas como **objetos `Row`**. | Retorna una lista de objetos \\`Row\\` de las primeras *n* filas para manipulación local. | \\`df.head(3)\\` |\n",
        "| **Estadísticas Descriptivas** | | | |\n",
        "| `count()` | **Cuenta** el total de filas/registros. | Devuelve el número total de filas en el DataFrame. | \\`df.count()\\` |\n",
        "| `describe()` | Estadísticas **solo para columnas numéricas**. | Calcula \\`count\\`, \\`mean\\`, \\`stddev\\`, \\`min\\` y \\`max\\` para columnas numéricas. | \\`df.describe().show()\\` |\n",
        "| `summary()` | Estadísticas para **todas las columnas**. | Proporciona estadísticas descriptivas para columnas numéricas y categóricas (incluyendo percentiles). | \\`df.summary().show()\\` |\n",
        "| **Selección y Manipulación** | | | |\n",
        "| `select()` | **Selecciona** columnas específicas. | Proyecta un nuevo DataFrame que contiene solo las columnas seleccionadas. | \\`df.select('col1', 'col2').show()\\` |\n",
        "| `filter()` | **Filtra** filas por una condición. | Devuelve un DataFrame con las filas que cumplen la expresión booleana. | \\`df.filter(df['col'] > 10).show()\\` |\n",
        "| `distinct()` | Elimina **filas duplicadas**. | Devuelve un DataFrame con filas únicas. | \\`df.distinct().show()\\` |\n",
        "| `orderBy()` | **Ordena** el DataFrame. | Ordena el DataFrame según una o más columnas, de forma ascendente o descendente. | \\`df.orderBy('col', ascending=False).show()\\` |\n",
        "| `groupBy().agg()` | **Agrupa** y **agrega** datos. | Agrupa los datos por una o más columnas y realiza operaciones de agregación (media, suma, etc.). | \\`df.groupBy('col').agg({'other_col': 'mean'}).show()\\` |"
      ]
    },
    {
      "cell_type": "markdown",
      "source": [
        "### Actividad 0:\n",
        "Crea una sesión de Spark y lee el archivo CSV en un DataFrame de Spark\n",
        "\n",
        "\n",
        "#### Cargamos el dataset\n",
        "\n",
        "Enlace:\n",
        "https://opendata-ajuntament.barcelona.cat/data/es/dataset/pad_nai_mdbas/resource/43b15838-3724-4dae-a096-1eaf4a345ef7\n",
        "\n",
        "### Información del dataset:\n",
        "https://opendata-ajuntament.barcelona.cat/data/es/dataset/pad_nai_mdbas\n",
        "\n"
      ],
      "metadata": {
        "id": "KFrtb81rZgig"
      }
    },
    {
      "cell_type": "code",
      "source": [
        "# Instalación\n",
        "#pip install requests\n",
        "#pip install pandas\n",
        "#pip install pyspark\n",
        "\n",
        "import requests\n",
        "import pandas as pd\n",
        "from pyspark.sql import SparkSession\n",
        "from pyspark.sql.functions import col, avg\n",
        "\n"
      ],
      "metadata": {
        "id": "QcjBuLfzbmr9"
      },
      "execution_count": null,
      "outputs": []
    },
    {
      "cell_type": "code",
      "source": [
        "params = {'resource_id': '43b15838-3724-4dae-a096-1eaf4a345ef7', 'limit': 1067}\n",
        "\n",
        "response = requests.get('https://opendata-ajuntament.barcelona.cat/data/api/action/datastore_search', params=params)\n",
        "response.raise_for_status()\n",
        "\n",
        "data = response.json()\n",
        "records = data['result']['records']\n",
        "df = pd.DataFrame.from_records(records)\n",
        "\n",
        "df"
      ],
      "metadata": {
        "id": "aZh2giubepvv"
      },
      "execution_count": null,
      "outputs": []
    },
    {
      "cell_type": "markdown",
      "source": [
        "Si queremos cargar el dataset como lo hacemos habitualmente\n",
        "\n",
        "```python\n",
        "\n",
        "import csv\n",
        "\n",
        "df_2 = pd.read_csv('2024_pad_nai_mdbas.csv')\n",
        "\n",
        "\n",
        "spark = (\n",
        "    SparkSession.builder\n",
        "    .appName(\"Ejercicios con PySpark Nacimiento\")\n",
        "    #.master(\"local[*]\")\n",
        "    .getOrCreate()\n",
        ")\n",
        "\n",
        "\n",
        "sdf = spark.createDataFrame(df_2)\n",
        "\n",
        "\n",
        "```\n",
        "\n",
        "Si trabajan desde Google Colab recuerden que deben cargar el dataframe, debe quedar así:\n",
        "\n",
        "\n",
        "\n",
        "Si tienen dudas, se recomienda mirar el práctico anterior :)"
      ],
      "metadata": {
        "id": "nsLu1W48lNGm"
      }
    },
    {
      "cell_type": "code",
      "source": [
        "spark = (\n",
        "    SparkSession.builder\n",
        "    .appName(\"Ejercicios con PySpark Nacimiento\")\n",
        "    .getOrCreate()\n",
        ")"
      ],
      "metadata": {
        "id": "SP-lJ2TUb4G9"
      },
      "execution_count": 7,
      "outputs": []
    },
    {
      "cell_type": "code",
      "source": [
        "sdf = spark.createDataFrame(df)"
      ],
      "metadata": {
        "id": "GnI4qhQumL8W"
      },
      "execution_count": 8,
      "outputs": []
    },
    {
      "cell_type": "markdown",
      "metadata": {
        "id": "AIAhqtveZHTw"
      },
      "source": [
        "### Actividad 1:\n",
        "Muestra el esquema del Spark DataFrame (`sdf`) para revisar los tipos de datos inferidos."
      ]
    },
    {
      "cell_type": "code",
      "source": [
        "sdf.printSchema()"
      ],
      "metadata": {
        "colab": {
          "base_uri": "https://localhost:8080/"
        },
        "id": "a3CktwR9b9nd",
        "outputId": "a2a4f21b-4ec1-4a30-c48c-f4939de4499f"
      },
      "execution_count": 10,
      "outputs": [
        {
          "output_type": "stream",
          "name": "stdout",
          "text": [
            "root\n",
            " |-- Codi_Districte: string (nullable = true)\n",
            " |-- Nom_Districte: string (nullable = true)\n",
            " |-- Nom_Barri: string (nullable = true)\n",
            " |-- AEB: string (nullable = true)\n",
            " |-- Seccio_Censal: string (nullable = true)\n",
            " |-- Valor: string (nullable = true)\n",
            " |-- Codi_Barri: string (nullable = true)\n",
            " |-- _id: long (nullable = true)\n",
            " |-- Any: string (nullable = true)\n",
            "\n"
          ]
        }
      ]
    },
    {
      "cell_type": "markdown",
      "source": [
        "### Actividad 2:\n",
        "Muestra los primeros **15** registros del `sdf`."
      ],
      "metadata": {
        "id": "ct6wEVPFcJWN"
      }
    },
    {
      "cell_type": "code",
      "source": [
        "sdf.show(15)"
      ],
      "metadata": {
        "colab": {
          "base_uri": "https://localhost:8080/"
        },
        "id": "vGY9Yp-mb-h9",
        "outputId": "ff7a4096-2e6d-42b1-bb55-5471793dc317"
      },
      "execution_count": 14,
      "outputs": [
        {
          "output_type": "stream",
          "name": "stdout",
          "text": [
            "+--------------+-------------+---------+---+-------------+-----+----------+---+----+\n",
            "|Codi_Districte|Nom_Districte|Nom_Barri|AEB|Seccio_Censal|Valor|Codi_Barri|_id| Any|\n",
            "+--------------+-------------+---------+---+-------------+-----+----------+---+----+\n",
            "|             1| Ciutat Vella| el Raval|  1|         1001|    7|         1|  1|2024|\n",
            "|             1| Ciutat Vella| el Raval|  1|         1002|   10|         1|  2|2024|\n",
            "|             1| Ciutat Vella| el Raval|  2|         1003|   41|         1|  3|2024|\n",
            "|             1| Ciutat Vella| el Raval|  2|         1004|   22|         1|  4|2024|\n",
            "|             1| Ciutat Vella| el Raval|  3|         1005|   19|         1|  5|2024|\n",
            "|             1| Ciutat Vella| el Raval|  3|         1006|    6|         1|  6|2024|\n",
            "|             1| Ciutat Vella| el Raval|  3|         1007|   20|         1|  7|2024|\n",
            "|             1| Ciutat Vella| el Raval|  4|         1008|   46|         1|  8|2024|\n",
            "|             1| Ciutat Vella| el Raval|  4|         1009|   19|         1|  9|2024|\n",
            "|             1| Ciutat Vella| el Raval|  4|         1010|   26|         1| 10|2024|\n",
            "|             1| Ciutat Vella| el Raval|  5|         1011|   28|         1| 11|2024|\n",
            "|             1| Ciutat Vella| el Raval|  5|         1012|   26|         1| 12|2024|\n",
            "|             1| Ciutat Vella| el Raval|  5|         1013|   17|         1| 13|2024|\n",
            "|             1| Ciutat Vella| el Raval|  6|         1014|   16|         1| 14|2024|\n",
            "|             1| Ciutat Vella| el Raval|  6|         1015|   12|         1| 15|2024|\n",
            "+--------------+-------------+---------+---+-------------+-----+----------+---+----+\n",
            "only showing top 15 rows\n",
            "\n"
          ]
        }
      ]
    },
    {
      "cell_type": "markdown",
      "source": [
        "### Actividad 3:\n",
        "Muestra la lista de nombres de las columnas del DataFrame."
      ],
      "metadata": {
        "id": "Jyk96xknchCX"
      }
    },
    {
      "cell_type": "code",
      "execution_count": 15,
      "metadata": {
        "colab": {
          "base_uri": "https://localhost:8080/"
        },
        "id": "cDaQtMINZHTy",
        "outputId": "14676c50-63af-43ba-f2e8-925069f4a2c0"
      },
      "outputs": [
        {
          "output_type": "execute_result",
          "data": {
            "text/plain": [
              "['Codi_Districte',\n",
              " 'Nom_Districte',\n",
              " 'Nom_Barri',\n",
              " 'AEB',\n",
              " 'Seccio_Censal',\n",
              " 'Valor',\n",
              " 'Codi_Barri',\n",
              " '_id',\n",
              " 'Any']"
            ]
          },
          "metadata": {},
          "execution_count": 15
        }
      ],
      "source": [
        "sdf.columns"
      ]
    },
    {
      "cell_type": "markdown",
      "source": [
        "### Actividad 4:\n",
        "Cambia el nombre de la columna \"AEB\" a \"AEB_2\"\n",
        "\n",
        "\n",
        "Verifica si el cambio se realizó correctamente"
      ],
      "metadata": {
        "id": "Dto4CDL-h2YH"
      }
    },
    {
      "cell_type": "code",
      "source": [
        "sdf = sdf.withColumnRenamed('AEB', 'AEB_2')"
      ],
      "metadata": {
        "id": "yFdbpsiqh2e2"
      },
      "execution_count": 16,
      "outputs": []
    },
    {
      "cell_type": "code",
      "source": [
        "sdf.columns"
      ],
      "metadata": {
        "colab": {
          "base_uri": "https://localhost:8080/"
        },
        "id": "R1I9I8alh6-t",
        "outputId": "1741d750-de77-4154-9764-eaacfcafa8ab"
      },
      "execution_count": 17,
      "outputs": [
        {
          "output_type": "execute_result",
          "data": {
            "text/plain": [
              "['Codi_Districte',\n",
              " 'Nom_Districte',\n",
              " 'Nom_Barri',\n",
              " 'AEB_2',\n",
              " 'Seccio_Censal',\n",
              " 'Valor',\n",
              " 'Codi_Barri',\n",
              " '_id',\n",
              " 'Any']"
            ]
          },
          "metadata": {},
          "execution_count": 17
        }
      ]
    },
    {
      "cell_type": "markdown",
      "metadata": {
        "id": "yMZcQhd2ZHTy"
      },
      "source": [
        "### Actividad 5:\n",
        "Muestra los tipos de datos de cada columna."
      ]
    },
    {
      "cell_type": "code",
      "execution_count": 18,
      "metadata": {
        "colab": {
          "base_uri": "https://localhost:8080/"
        },
        "id": "Ve_PvYzzZHTy",
        "outputId": "f1d9d542-fde7-4c06-aa6a-535e99b89f1a"
      },
      "outputs": [
        {
          "output_type": "execute_result",
          "data": {
            "text/plain": [
              "[('Codi_Districte', 'string'),\n",
              " ('Nom_Districte', 'string'),\n",
              " ('Nom_Barri', 'string'),\n",
              " ('AEB_2', 'string'),\n",
              " ('Seccio_Censal', 'string'),\n",
              " ('Valor', 'string'),\n",
              " ('Codi_Barri', 'string'),\n",
              " ('_id', 'bigint'),\n",
              " ('Any', 'string')]"
            ]
          },
          "metadata": {},
          "execution_count": 18
        }
      ],
      "source": [
        "sdf.dtypes"
      ]
    },
    {
      "cell_type": "markdown",
      "metadata": {
        "id": "XxkW62wuZHTy"
      },
      "source": [
        "### Actividad 6:\n",
        "Selecciona y muestra la columna `\"Nom_Districte\"`."
      ]
    },
    {
      "cell_type": "code",
      "execution_count": 19,
      "metadata": {
        "colab": {
          "base_uri": "https://localhost:8080/"
        },
        "id": "3Ohm1z8FZHTy",
        "outputId": "062528b8-1cc1-4235-c7db-09d699c44523"
      },
      "outputs": [
        {
          "output_type": "stream",
          "name": "stdout",
          "text": [
            "+-------------+\n",
            "|Nom_Districte|\n",
            "+-------------+\n",
            "| Ciutat Vella|\n",
            "| Ciutat Vella|\n",
            "| Ciutat Vella|\n",
            "| Ciutat Vella|\n",
            "| Ciutat Vella|\n",
            "| Ciutat Vella|\n",
            "| Ciutat Vella|\n",
            "| Ciutat Vella|\n",
            "| Ciutat Vella|\n",
            "| Ciutat Vella|\n",
            "| Ciutat Vella|\n",
            "| Ciutat Vella|\n",
            "| Ciutat Vella|\n",
            "| Ciutat Vella|\n",
            "| Ciutat Vella|\n",
            "| Ciutat Vella|\n",
            "| Ciutat Vella|\n",
            "| Ciutat Vella|\n",
            "| Ciutat Vella|\n",
            "| Ciutat Vella|\n",
            "+-------------+\n",
            "only showing top 20 rows\n",
            "\n"
          ]
        }
      ],
      "source": [
        "sdf.select(\"Nom_Districte\").show()"
      ]
    },
    {
      "cell_type": "markdown",
      "source": [
        "### Actividad 7:\n",
        "\n",
        "Verificar la consistencia de los datos, ordenando el DataFrame por tres columnas:\n",
        "1.  `Nom_Districte` (Ascendente)\n",
        "2.  `Nom_Barri` (Ascendente)\n",
        "3.  `Any` (Descendente)"
      ],
      "metadata": {
        "id": "A1nz4Kbnhoah"
      }
    },
    {
      "cell_type": "code",
      "source": [
        "sdf.orderBy([\"Nom_Districte\", \"Nom_Barri\", \"Any\"], ascending=[True, True, False]).show()"
      ],
      "metadata": {
        "colab": {
          "base_uri": "https://localhost:8080/"
        },
        "id": "BnDUGEyorsYz",
        "outputId": "64f23b00-ca3c-4142-b176-6be4daba6069"
      },
      "execution_count": 22,
      "outputs": [
        {
          "output_type": "stream",
          "name": "stdout",
          "text": [
            "+--------------+-------------+--------------------+-----+-------------+-----+----------+---+----+\n",
            "|Codi_Districte|Nom_Districte|           Nom_Barri|AEB_2|Seccio_Censal|Valor|Codi_Barri|_id| Any|\n",
            "+--------------+-------------+--------------------+-----+-------------+-----+----------+---+----+\n",
            "|             1| Ciutat Vella|Sant Pere, Santa ...|   19|         1054|    9|         4| 53|2024|\n",
            "|             1| Ciutat Vella|Sant Pere, Santa ...|   16|         1043|    7|         4| 42|2024|\n",
            "|             1| Ciutat Vella|Sant Pere, Santa ...|   16|         1044|   11|         4| 43|2024|\n",
            "|             1| Ciutat Vella|Sant Pere, Santa ...|   16|         1045|   11|         4| 44|2024|\n",
            "|             1| Ciutat Vella|Sant Pere, Santa ...|   16|         1046|    5|         4| 45|2024|\n",
            "|             1| Ciutat Vella|Sant Pere, Santa ...|   17|         1047|    9|         4| 46|2024|\n",
            "|             1| Ciutat Vella|Sant Pere, Santa ...|   17|         1048|   14|         4| 47|2024|\n",
            "|             1| Ciutat Vella|Sant Pere, Santa ...|   17|         1049|    8|         4| 48|2024|\n",
            "|             1| Ciutat Vella|Sant Pere, Santa ...|   18|         1050|    8|         4| 49|2024|\n",
            "|             1| Ciutat Vella|Sant Pere, Santa ...|   18|         1051|   10|         4| 50|2024|\n",
            "|             1| Ciutat Vella|Sant Pere, Santa ...|   18|         1052|   14|         4| 51|2024|\n",
            "|             1| Ciutat Vella|Sant Pere, Santa ...|   19|         1053|    6|         4| 52|2024|\n",
            "|             1| Ciutat Vella|Sant Pere, Santa ...|   19|         1055|   10|         4| 54|2024|\n",
            "|             1| Ciutat Vella|      el Barri Gòtic|   11|         1029|    7|         2| 28|2024|\n",
            "|             1| Ciutat Vella|      el Barri Gòtic|    9|         1023|    7|         2| 23|2024|\n",
            "|             1| Ciutat Vella|      el Barri Gòtic|   10|         1025|    7|         2| 24|2024|\n",
            "|             1| Ciutat Vella|      el Barri Gòtic|   10|         1026|   45|         2| 25|2024|\n",
            "|             1| Ciutat Vella|      el Barri Gòtic|   10|         1027|    8|         2| 26|2024|\n",
            "|             1| Ciutat Vella|      el Barri Gòtic|   11|         1028|   16|         2| 27|2024|\n",
            "|             1| Ciutat Vella|      el Barri Gòtic|    9|         1022|    6|         2| 22|2024|\n",
            "+--------------+-------------+--------------------+-----+-------------+-----+----------+---+----+\n",
            "only showing top 20 rows\n",
            "\n"
          ]
        }
      ]
    },
    {
      "cell_type": "code",
      "source": [
        "sdf.orderBy([\"Nom_Districte\", \"Nom_Barri\", \"Any\"], ascending=[True, True, False]).show(15, False)\n"
      ],
      "metadata": {
        "colab": {
          "base_uri": "https://localhost:8080/"
        },
        "id": "T2i6Wn5Thn9G",
        "outputId": "42c35481-989a-4009-fbc1-b4f327663411"
      },
      "execution_count": 21,
      "outputs": [
        {
          "output_type": "stream",
          "name": "stdout",
          "text": [
            "+--------------+-------------+-------------------------------------+-----+-------------+-----+----------+---+----+\n",
            "|Codi_Districte|Nom_Districte|Nom_Barri                            |AEB_2|Seccio_Censal|Valor|Codi_Barri|_id|Any |\n",
            "+--------------+-------------+-------------------------------------+-----+-------------+-----+----------+---+----+\n",
            "|1             |Ciutat Vella |Sant Pere, Santa Caterina i la Ribera|17   |1049         |8    |4         |48 |2024|\n",
            "|1             |Ciutat Vella |Sant Pere, Santa Caterina i la Ribera|16   |1043         |7    |4         |42 |2024|\n",
            "|1             |Ciutat Vella |Sant Pere, Santa Caterina i la Ribera|16   |1044         |11   |4         |43 |2024|\n",
            "|1             |Ciutat Vella |Sant Pere, Santa Caterina i la Ribera|16   |1045         |11   |4         |44 |2024|\n",
            "|1             |Ciutat Vella |Sant Pere, Santa Caterina i la Ribera|16   |1046         |5    |4         |45 |2024|\n",
            "|1             |Ciutat Vella |Sant Pere, Santa Caterina i la Ribera|17   |1047         |9    |4         |46 |2024|\n",
            "|1             |Ciutat Vella |Sant Pere, Santa Caterina i la Ribera|17   |1048         |14   |4         |47 |2024|\n",
            "|1             |Ciutat Vella |Sant Pere, Santa Caterina i la Ribera|18   |1050         |8    |4         |49 |2024|\n",
            "|1             |Ciutat Vella |Sant Pere, Santa Caterina i la Ribera|18   |1051         |10   |4         |50 |2024|\n",
            "|1             |Ciutat Vella |Sant Pere, Santa Caterina i la Ribera|18   |1052         |14   |4         |51 |2024|\n",
            "|1             |Ciutat Vella |Sant Pere, Santa Caterina i la Ribera|19   |1053         |6    |4         |52 |2024|\n",
            "|1             |Ciutat Vella |Sant Pere, Santa Caterina i la Ribera|19   |1054         |9    |4         |53 |2024|\n",
            "|1             |Ciutat Vella |Sant Pere, Santa Caterina i la Ribera|19   |1055         |10   |4         |54 |2024|\n",
            "|1             |Ciutat Vella |el Barri Gòtic                       |10   |1026         |45   |2         |25 |2024|\n",
            "|1             |Ciutat Vella |el Barri Gòtic                       |10   |1027         |8    |2         |26 |2024|\n",
            "+--------------+-------------+-------------------------------------+-----+-------------+-----+----------+---+----+\n",
            "only showing top 15 rows\n",
            "\n"
          ]
        }
      ]
    },
    {
      "cell_type": "markdown",
      "metadata": {
        "id": "x8AViI8OZHTz"
      },
      "source": [
        "### Actividad 8:\n",
        "\n",
        "Filtrar las filas donde en \"Nom_Barri\" es \"Sants\""
      ]
    },
    {
      "cell_type": "code",
      "execution_count": 24,
      "metadata": {
        "id": "zK_wEpX0ZHTz"
      },
      "outputs": [],
      "source": [
        "sdf_sants = sdf.filter(sdf[\"Nom_Barri\"] == \"Sants\")\n"
      ]
    },
    {
      "cell_type": "code",
      "source": [
        "sdf_sants.show()"
      ],
      "metadata": {
        "colab": {
          "base_uri": "https://localhost:8080/"
        },
        "id": "mETtRGCIsNNu",
        "outputId": "ed73d3d9-faa2-42dc-978c-e343bffd96c5"
      },
      "execution_count": 25,
      "outputs": [
        {
          "output_type": "stream",
          "name": "stdout",
          "text": [
            "+--------------+--------------+---------+-----+-------------+-----+----------+---+----+\n",
            "|Codi_Districte| Nom_Districte|Nom_Barri|AEB_2|Seccio_Censal|Valor|Codi_Barri|_id| Any|\n",
            "+--------------+--------------+---------+-----+-------------+-----+----------+---+----+\n",
            "|             3|Sants-Montjuïc|    Sants|   72|         3086|   ..|        18|316|2024|\n",
            "|             3|Sants-Montjuïc|    Sants|   72|         3087|    9|        18|317|2024|\n",
            "|             3|Sants-Montjuïc|    Sants|   72|         3088|    9|        18|318|2024|\n",
            "|             3|Sants-Montjuïc|    Sants|   72|         3089|   12|        18|319|2024|\n",
            "|             3|Sants-Montjuïc|    Sants|   72|         3090|    8|        18|320|2024|\n",
            "|             3|Sants-Montjuïc|    Sants|   72|         3091|   13|        18|321|2024|\n",
            "|             3|Sants-Montjuïc|    Sants|   72|         3092|    7|        18|322|2024|\n",
            "|             3|Sants-Montjuïc|    Sants|   72|         3093|    6|        18|323|2024|\n",
            "|             3|Sants-Montjuïc|    Sants|   72|         3094|    7|        18|324|2024|\n",
            "|             3|Sants-Montjuïc|    Sants|   73|         3095|   10|        18|325|2024|\n",
            "|             3|Sants-Montjuïc|    Sants|   73|         3096|   12|        18|326|2024|\n",
            "|             3|Sants-Montjuïc|    Sants|   73|         3097|   14|        18|327|2024|\n",
            "|             3|Sants-Montjuïc|    Sants|   73|         3098|    8|        18|328|2024|\n",
            "|             3|Sants-Montjuïc|    Sants|   73|         3099|    7|        18|329|2024|\n",
            "|             3|Sants-Montjuïc|    Sants|   73|         3100|   12|        18|330|2024|\n",
            "|             3|Sants-Montjuïc|    Sants|   74|         3101|   47|        18|331|2024|\n",
            "|             3|Sants-Montjuïc|    Sants|   74|         3102|   10|        18|332|2024|\n",
            "|             3|Sants-Montjuïc|    Sants|   74|         3103|   10|        18|333|2024|\n",
            "|             3|Sants-Montjuïc|    Sants|   74|         3104|   17|        18|334|2024|\n",
            "|             3|Sants-Montjuïc|    Sants|   75|         3105|   10|        18|335|2024|\n",
            "+--------------+--------------+---------+-----+-------------+-----+----------+---+----+\n",
            "only showing top 20 rows\n",
            "\n"
          ]
        }
      ]
    },
    {
      "cell_type": "markdown",
      "metadata": {
        "id": "fEJdQT_SZHTz"
      },
      "source": [
        "### Actividad 9:\n",
        "Calcula el número total de registros por \"Nom_Barri\"\n",
        "\n"
      ]
    },
    {
      "cell_type": "code",
      "execution_count": 26,
      "metadata": {
        "colab": {
          "base_uri": "https://localhost:8080/"
        },
        "id": "uYAIknpLZHTz",
        "outputId": "439d70b5-30df-401b-a43e-1ea6784ddd12"
      },
      "outputs": [
        {
          "output_type": "stream",
          "name": "stdout",
          "text": [
            "+--------------------+-----+\n",
            "|           Nom_Barri|count|\n",
            "+--------------------+-----+\n",
            "|   la Vila de Gràcia|   36|\n",
            "|la Dreta de l'Eix...|   29|\n",
            "|      el Barri Gòtic|    9|\n",
            "|l'Antiga Esquerra...|   26|\n",
            "|   la Marina de Port|   17|\n",
            "|la Marina del Pra...|    1|\n",
            "|              Sarrià|   16|\n",
            "|         Sant Antoni|   24|\n",
            "|Sant Gervasi - Ga...|   31|\n",
            "|Sant Pere, Santa ...|   13|\n",
            "|       Sants - Badal|   16|\n",
            "|la Nova Esquerra ...|   40|\n",
            "|           les Corts|   35|\n",
            "|la Font de la Gua...|    7|\n",
            "|Sant Gervasi - la...|   18|\n",
            "|la Maternitat i S...|   15|\n",
            "|       el Fort Pienc|   20|\n",
            "|el Putxet i el Farró|   19|\n",
            "|     les Tres Torres|   11|\n",
            "|          la Bordeta|   13|\n",
            "+--------------------+-----+\n",
            "only showing top 20 rows\n",
            "\n"
          ]
        }
      ],
      "source": [
        "sdf.groupBy(\"Nom_Barri\").count().show()"
      ]
    },
    {
      "cell_type": "markdown",
      "source": [
        "### Actividad 10:\n",
        "Muestra todos los valores distintos de la columna \"Nom_Barri\", asegurándote de que el listado esté ordenado alfabéticamente.\n",
        "\n",
        "\n",
        "Las últimas actividades las vamos a corregir en la próxima sesión.\n",
        "\n",
        "Buen descanso\n",
        ":)\n",
        "\n"
      ],
      "metadata": {
        "id": "wG5KPG67fhNW"
      }
    }
  ],
  "metadata": {
    "kernelspec": {
      "display_name": "base",
      "language": "python",
      "name": "python3"
    },
    "language_info": {
      "codemirror_mode": {
        "name": "ipython",
        "version": 3
      },
      "file_extension": ".py",
      "mimetype": "text/x-python",
      "name": "python",
      "nbconvert_exporter": "python",
      "pygments_lexer": "ipython3",
      "version": "3.13.5"
    },
    "colab": {
      "provenance": []
    }
  },
  "nbformat": 4,
  "nbformat_minor": 0
}