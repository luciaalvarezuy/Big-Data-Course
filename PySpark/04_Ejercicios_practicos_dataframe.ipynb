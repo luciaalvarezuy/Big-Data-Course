{
 "cells": [
  {
   "cell_type": "markdown",
   "metadata": {},
   "source": [
    "## Ejercicio práctico\n",
    "\n",
    "En esta actividad, vamos a realizar algunos ejercicios prácticos para repasar una de las primeras partes cuando comenzamos a trabajar con datos: \"estadisticos descriptivos\"\n",
    "\n",
    "\n",
    "| Comando         | Qué hace                                     | Ejemplo                                  |\n",
    "|-----------------|----------------------------------------------|------------------------------------------|\n",
    "| `printSchema()` | Imprime el esquema del DataFrame.            | `df.printSchema()`                       |\n",
    "| `show(n)`       | Muestra las primeras `n` filas del DataFrame.| `df.show(5)`                             |\n",
    "| `head(n)`       | Devuelve las primeras `n` filas como una lista de Row. | `df.head(3)`                       |\n",
    "| `select()`      | Selecciona columnas específicas del DataFrame.| `df.select('column1', 'column2').show()` |\n",
    "| `describe()`    | Calcula estadísticas resumen (count, mean, stddev, min, max) para columnas numéricas. | `df.describe().show()` |\n",
    "| `summary()`     | Proporciona estadísticas descriptivas para todas las columnas (numéricas y categóricas). | `df.summary().show()` |\n",
    "| `count()`       | Devuelve el número de filas en el DataFrame. | `df.count()`                            |\n",
    "| `distinct()`    | Devuelve un DataFrame sin filas duplicadas.  | `df.distinct().show()`                  |\n",
    "| `groupBy().agg()` | Agrupa los datos por una o más columnas y realiza operaciones de agregación. | `df.groupBy('column').agg({'other_column': 'mean'}).show()` |\n",
    "| `columns`       | Devuelve una lista de nombres de las columnas del DataFrame. | `df.columns`                         |\n",
    "| `dtypes`        | Devuelve una lista de tuplas (nombre_columna, tipo_dato). | `df.dtypes`                           |\n",
    "| `schema`        | Devuelve el esquema del DataFrame como un objeto StructType. | `df.schema`                          |\n",
    "| `filter()`      | Filtra filas según una condición.            | `df.filter(df['column'] > 10).show()`  |\n",
    "| `orderBy()`     | Ordena el DataFrame por una o más columnas.  | `df.orderBy('column', ascending=False).show()` |\n",
    "\n",
    "\n",
    "\n",
    "\n",
    "\n",
    "\n",
    "\n",
    "### Actividad 0: \n",
    "Crea una sesión de Spark y lee el archivo CSV en un DataFrame de Spark"
   ]
  },
  {
   "cell_type": "code",
   "execution_count": 1,
   "metadata": {},
   "outputs": [],
   "source": [
    "### Ingresar código"
   ]
  },
  {
   "cell_type": "markdown",
   "metadata": {},
   "source": [
    "### Actividad 1: \n",
    "Mostrar todas las columnas del DataFrame"
   ]
  },
  {
   "cell_type": "code",
   "execution_count": 2,
   "metadata": {},
   "outputs": [],
   "source": [
    "### Ingresar código"
   ]
  },
  {
   "cell_type": "markdown",
   "metadata": {},
   "source": [
    "### Actividad 2: \n",
    "Mostrar los tipos de datos de cada columna"
   ]
  },
  {
   "cell_type": "code",
   "execution_count": 3,
   "metadata": {},
   "outputs": [],
   "source": [
    "### Ingresar código"
   ]
  },
  {
   "cell_type": "markdown",
   "metadata": {},
   "source": [
    "### Actividad 3: \n",
    "Selecciona y muestra la columna \"Descripcio_causa_mediata\""
   ]
  },
  {
   "cell_type": "code",
   "execution_count": 4,
   "metadata": {},
   "outputs": [],
   "source": [
    "### Ingresar código"
   ]
  },
  {
   "cell_type": "markdown",
   "metadata": {},
   "source": [
    "### Actividad 4: \n",
    "Filtrar las filas donde en \"Descripcio_causa_mediata\" es \"Altres\" "
   ]
  },
  {
   "cell_type": "code",
   "execution_count": 5,
   "metadata": {},
   "outputs": [],
   "source": [
    "### Ingresar código"
   ]
  },
  {
   "cell_type": "markdown",
   "metadata": {},
   "source": [
    "### Actividad 5: \n",
    "Calcula el número total de accidentes por distrito (Nom_districte). \n"
   ]
  },
  {
   "cell_type": "code",
   "execution_count": 6,
   "metadata": {},
   "outputs": [],
   "source": [
    "### Ingresar código"
   ]
  },
  {
   "cell_type": "markdown",
   "metadata": {},
   "source": [
    "### Actividad 6: \n",
    "Proporciona los estadisticos descriptivos de las variables que refieren al momento que se realizó el accidente: \"Mes_any\", \"Dia_mes\", \"Descripcion\".\n"
   ]
  },
  {
   "cell_type": "code",
   "execution_count": 7,
   "metadata": {},
   "outputs": [],
   "source": [
    "### Ingresar código"
   ]
  },
  {
   "cell_type": "code",
   "execution_count": 8,
   "metadata": {},
   "outputs": [],
   "source": [
    "### Ingresar código"
   ]
  },
  {
   "cell_type": "markdown",
   "metadata": {},
   "source": [
    "### Actividad 7\n",
    "\n",
    "\n",
    "Calcula cuántos accidentes hay por día de la semana (Descripcio_dia_setmana).\n"
   ]
  },
  {
   "cell_type": "code",
   "execution_count": 9,
   "metadata": {},
   "outputs": [],
   "source": [
    "### Ingresar código"
   ]
  },
  {
   "cell_type": "markdown",
   "metadata": {},
   "source": [
    "### Actividad 8\n",
    "Ingresa la última actividad que es necesaria realizar"
   ]
  },
  {
   "cell_type": "code",
   "execution_count": 10,
   "metadata": {},
   "outputs": [],
   "source": [
    "### Ingresar código"
   ]
  }
 ],
 "metadata": {
  "kernelspec": {
   "display_name": "base",
   "language": "python",
   "name": "python3"
  },
  "language_info": {
   "codemirror_mode": {
    "name": "ipython",
    "version": 3
   },
   "file_extension": ".py",
   "mimetype": "text/x-python",
   "name": "python",
   "nbconvert_exporter": "python",
   "pygments_lexer": "ipython3",
   "version": "3.11.5"
  }
 },
 "nbformat": 4,
 "nbformat_minor": 2
}
