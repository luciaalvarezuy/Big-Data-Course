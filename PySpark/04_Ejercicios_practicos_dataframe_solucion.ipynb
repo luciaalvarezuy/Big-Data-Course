{
 "cells": [
  {
   "cell_type": "markdown",
   "metadata": {},
   "source": [
    "## Ejercicio práctico\n",
    "\n",
    "En esta actividad, vamos a realizar algunos ejercicios prácticos para repasar una de las primeras partes cuando comenzamos a trabajar con datos: \"estadisticos descriptivos\"\n",
    "\n",
    "\n",
    "| Comando         | Qué hace                                     | Ejemplo                                  |\n",
    "|-----------------|----------------------------------------------|------------------------------------------|\n",
    "| `printSchema()` | Imprime el esquema del DataFrame.            | `df.printSchema()`                       |\n",
    "| `show(n)`       | Muestra las primeras `n` filas del DataFrame.| `df.show(5)`                             |\n",
    "| `head(n)`       | Devuelve las primeras `n` filas como una lista de Row. | `df.head(3)`                       |\n",
    "| `select()`      | Selecciona columnas específicas del DataFrame.| `df.select('column1', 'column2').show()` |\n",
    "| `describe()`    | Calcula estadísticas resumen (count, mean, stddev, min, max) para columnas numéricas. | `df.describe().show()` |\n",
    "| `summary()`     | Proporciona estadísticas descriptivas para todas las columnas (numéricas y categóricas). | `df.summary().show()` |\n",
    "| `count()`       | Devuelve el número de filas en el DataFrame. | `df.count()`                            |\n",
    "| `distinct()`    | Devuelve un DataFrame sin filas duplicadas.  | `df.distinct().show()`                  |\n",
    "| `groupBy().agg()` | Agrupa los datos por una o más columnas y realiza operaciones de agregación. | `df.groupBy('column').agg({'other_column': 'mean'}).show()` |\n",
    "| `columns`       | Devuelve una lista de nombres de las columnas del DataFrame. | `df.columns`                         |\n",
    "| `dtypes`        | Devuelve una lista de tuplas (nombre_columna, tipo_dato). | `df.dtypes`                           |\n",
    "| `schema`        | Devuelve el esquema del DataFrame como un objeto StructType. | `df.schema`                          |\n",
    "| `filter()`      | Filtra filas según una condición.            | `df.filter(df['column'] > 10).show()`  |\n",
    "| `orderBy()`     | Ordena el DataFrame por una o más columnas.  | `df.orderBy('column', ascending=False).show()` |\n",
    "\n",
    "\n",
    "\n",
    "\n",
    "\n",
    "\n",
    "\n",
    "### Actividad 0: \n",
    "Crea una sesión de Spark y lee el archivo CSV en un DataFrame de Spark"
   ]
  },
  {
   "cell_type": "code",
   "execution_count": 46,
   "metadata": {},
   "outputs": [],
   "source": [
    "### Ingresar código\n",
    "\n",
    "from pyspark.sql import SparkSession\n",
    "# from pyspark.sql.functions import col, avg\n",
    "\n",
    "# Crear una sesión de Spark\n",
    "spark = SparkSession.builder.appName(\"Ejercicios con PySpark\").getOrCreate()\n",
    "\n",
    "# Leer el archivo CSV en un DataFrame de Spark\n",
    "file_path = \"2023_accidents_causa_conductor_gu_bcn_.csv\"\n",
    "sdf = spark.read.csv(file_path, header=True, inferSchema=True)"
   ]
  },
  {
   "cell_type": "markdown",
   "metadata": {},
   "source": [
    "### Actividad 1: \n",
    "Mostrar todas las columnas del DataFrame"
   ]
  },
  {
   "cell_type": "code",
   "execution_count": 47,
   "metadata": {},
   "outputs": [
    {
     "name": "stdout",
     "output_type": "stream",
     "text": [
      "['Numero_expedient', 'Codi_districte', 'Nom_districte', 'Codi_barri', 'Nom_barri', 'Codi_carrer', 'Nom_carrer', 'Num_postal ', 'Descripcio_dia_setmana', 'NK_Any', 'Mes_any', 'Nom_mes', 'Dia_mes', 'Hora_dia', 'Descripcio_torn', 'Descripcio_causa_mediata', 'Coordenada_UTM_X_ED50', 'Coordenada_UTM_Y_ED50', 'Longitud_WGS84', 'Latitud_WGS84']\n"
     ]
    }
   ],
   "source": [
    "print(sdf.columns)"
   ]
  },
  {
   "cell_type": "markdown",
   "metadata": {},
   "source": [
    "### Actividad 2: \n",
    "Mostrar los tipos de datos de cada columna"
   ]
  },
  {
   "cell_type": "code",
   "execution_count": 48,
   "metadata": {},
   "outputs": [
    {
     "name": "stdout",
     "output_type": "stream",
     "text": [
      "[('Numero_expedient', 'string'), ('Codi_districte', 'int'), ('Nom_districte', 'string'), ('Codi_barri', 'int'), ('Nom_barri', 'string'), ('Codi_carrer', 'int'), ('Nom_carrer', 'string'), ('Num_postal ', 'string'), ('Descripcio_dia_setmana', 'string'), ('NK_Any', 'int'), ('Mes_any', 'int'), ('Nom_mes', 'string'), ('Dia_mes', 'int'), ('Hora_dia', 'int'), ('Descripcio_torn', 'string'), ('Descripcio_causa_mediata', 'string'), ('Coordenada_UTM_X_ED50', 'double'), ('Coordenada_UTM_Y_ED50', 'double'), ('Longitud_WGS84', 'double'), ('Latitud_WGS84', 'double')]\n"
     ]
    }
   ],
   "source": [
    "print(sdf.dtypes)"
   ]
  },
  {
   "cell_type": "markdown",
   "metadata": {},
   "source": [
    "### Actividad 3: \n",
    "Selecciona y muestra la columna \"Descripcio_causa_mediata\""
   ]
  },
  {
   "cell_type": "code",
   "execution_count": 49,
   "metadata": {},
   "outputs": [
    {
     "name": "stdout",
     "output_type": "stream",
     "text": [
      "+------------------------+\n",
      "|Descripcio_causa_mediata|\n",
      "+------------------------+\n",
      "|    Manca d'atenció a...|\n",
      "|    No respectar dist...|\n",
      "|    No respectar dist...|\n",
      "|    No respectat pas ...|\n",
      "|        Desobeir semàfor|\n",
      "|    Manca d'atenció a...|\n",
      "|    Desobeir altres s...|\n",
      "|    Manca d'atenció a...|\n",
      "|    Desobeir altres s...|\n",
      "|    Manca d'atenció a...|\n",
      "|    Desobeir altres s...|\n",
      "|    No respectar dist...|\n",
      "|    Gir indegut o sen...|\n",
      "|    Gir indegut o sen...|\n",
      "|                  Altres|\n",
      "|    Manca d'atenció a...|\n",
      "|              Desconegut|\n",
      "|                  Altres|\n",
      "|              Desconegut|\n",
      "|                  Altres|\n",
      "+------------------------+\n",
      "only showing top 20 rows\n",
      "\n"
     ]
    }
   ],
   "source": [
    "sdf.select(\"Descripcio_causa_mediata\").show()"
   ]
  },
  {
   "cell_type": "markdown",
   "metadata": {},
   "source": [
    "### Actividad 4: \n",
    "Filtrar las filas donde en \"Descripcio_causa_mediata\" es \"Altres\" "
   ]
  },
  {
   "cell_type": "code",
   "execution_count": 50,
   "metadata": {},
   "outputs": [
    {
     "name": "stdout",
     "output_type": "stream",
     "text": [
      "+----------------+--------------+-------------+----------+--------------------+-----------+--------------------+-----------+----------------------+------+-------+--------+-------+--------+---------------+------------------------+---------------------+---------------------+--------------+-------------+\n",
      "|Numero_expedient|Codi_districte|Nom_districte|Codi_barri|           Nom_barri|Codi_carrer|          Nom_carrer|Num_postal |Descripcio_dia_setmana|NK_Any|Mes_any| Nom_mes|Dia_mes|Hora_dia|Descripcio_torn|Descripcio_causa_mediata|Coordenada_UTM_X_ED50|Coordenada_UTM_Y_ED50|Longitud_WGS84|Latitud_WGS84|\n",
      "+----------------+--------------+-------------+----------+--------------------+-----------+--------------------+-----------+----------------------+------+-------+--------+-------+--------+---------------+------------------------+---------------------+---------------------+--------------+-------------+\n",
      "| 2023S003695    |            10|   Sant Martí|        64|el Camp de l'Arpa...|     226400| Las Navas de Tolosa|  0293 0293|               Dimarts|  2023|      6|    Juny|     20|      16|          Tarda|                  Altres|            432107.59|           4585401.76|   2.186487885| 41.415454425|\n",
      "| 2023S002728    |            10|   Sant Martí|        64|el Camp de l'Arpa...|     194406|            Maragall|  0020 0022|               Dilluns|  2023|      5|    Maig|      8|       9|           Matí|                  Altres|            431653.81|           4585294.29|    2.18107072|  41.41444799|\n",
      "| 2023S000944    |            10|   Sant Martí|        64|el Camp de l'Arpa...|     297001|Sant Antoni Maria...|  0356 0356|              Dimecres|  2023|      2|  Febrer|     15|      20|          Tarda|                  Altres|            431646.49|           4585469.73|   2.180963306| 41.416027499|\n",
      "| 2023S002351    |            10|   Sant Martí|        64|el Camp de l'Arpa...|     350308|            València|  0589 0589|              Diumenge|  2023|      4|   Abril|     23|      13|           Matí|                  Altres|            431988.96|           4584692.18|   2.185148327| 41.409053419|\n",
      "| 2023S004260    |            10|   Sant Martí|        65|             el Clot|     209900|           Meridiana|  0182 0182|                Dijous|  2023|      7|  Juliol|     13|      21|          Tarda|                  Altres|            432163.59|           4585096.22|   2.187192186| 41.412707251|\n",
      "| 2023S006308    |            10|   Sant Martí|        70|el Besòs i el Mar...|     701266| Litoral (Llobregat)|  000560000|              Dimecres|  2023|     10| Octubre|     25|      18|          Tarda|                  Altres|             435017.2|            4584731.2|   2.221372632| 41.409655535|\n",
      "| 2023S003153    |            10|   Sant Martí|        73| la Verneda i la Pau|     153205|           Guipúscoa|  0178 0178|              Dissabte|  2023|      5|    Maig|     27|      12|           Matí|                  Altres|            433983.96|           4586430.89|   2.208825686|  41.42487995|\n",
      "| 2023S002642    |            10|   Sant Martí|        68|         el Poblenou|     701266| Litoral (Llobregat)|  000790000|                Dijous|  2023|      5|    Maig|      4|      19|          Tarda|                  Altres|             433443.3|           4582903.44|   2.202744112| 41.393064496|\n",
      "| 2023S001840    |            10|   Sant Martí|        71|Provençals del Po...|     701414|                C-31|  020750000|             Divendres|  2023|      3|    Març|     31|      10|           Matí|                  Altres|            433372.35|           4585277.86|   2.201633992|  41.41444441|\n",
      "| 2023S007519    |            10|   Sant Martí|        66|el Parc i la Llac...|     270901|             Pujades|  0027 0027|               Dimarts|  2023|     12|Desembre|     19|       7|           Matí|                  Altres|            432405.38|           4583010.31|   2.190318066|  41.39394043|\n",
      "| 2023S003609    |            10|   Sant Martí|        69|Diagonal Mar i el...|     144601|            Diagonal|  0003 0035|              Dissabte|  2023|      6|    Juny|     17|      13|           Matí|                  Altres|            434602.66|           4584822.12|   2.216403377| 41.410440789|\n",
      "| 2023S000502    |            10|   Sant Martí|        66|el Parc i la Llac...|      76807|            Sardenya|  0043 0043|                Dijous|  2023|      1|   Gener|     26|       9|           Matí|                  Altres|            432255.89|           4582767.37|   2.188557249| 41.391739749|\n",
      "| 2023S005996    |             1| Ciutat Vella|         1|            el Raval|     198804|           Paral·lel|  0062 0062|               Dilluns|  2023|     10| Octubre|      9|      18|          Tarda|                  Altres|            430668.81|           4580921.38|   2.169786689| 41.374978141|\n",
      "| 2023S005915    |            10|   Sant Martí|        67|la Vila Olímpica ...|     700654|             Litoral|  9993 9993|             Divendres|  2023|     10| Octubre|      6|      15|          Tarda|                  Altres|            432888.89|           4582323.45|   2.196177347|  41.38779457|\n",
      "| 2023S003237    |             1| Ciutat Vella|         2|      el Barri Gòtic|      61402|              Canuda|  0006 0006|               Dimarts|  2023|      5|    Maig|     30|      14|          Tarda|                  Altres|            430813.87|           4581993.58|   2.171398723| 41.384647631|\n",
      "| 2023S006626    |             1| Ciutat Vella|         4|Sant Pere, Santa ...|     240707|               Palau|  9999 9999|              Dimecres|  2023|     11|Novembre|      8|      16|          Tarda|                  Altres|             431803.6|           4581754.35|   2.183261829| 41.382577507|\n",
      "| 2023S004849    |             1| Ciutat Vella|         4|Sant Pere, Santa ...|     198203|Marquès de l'Arge...|  0017 0017|             Divendres|  2023|      8|   Agost|     11|       3|            Nit|                  Altres|            431967.06|           4581961.65|   2.185193295| 41.384458451|\n",
      "| 2023S002561    |             1| Ciutat Vella|         4|Sant Pere, Santa ...|     201400|             Picasso|  0005 0005|               Dimarts|  2023|      5|    Maig|      2|       5|            Nit|                  Altres|            431740.53|           4582375.11|   2.182437621| 41.388163173|\n",
      "| 2023S006362    |             1| Ciutat Vella|         4|Sant Pere, Santa ...|     201400|             Picasso|  0024 0024|             Divendres|  2023|     10| Octubre|     27|      18|          Tarda|                  Altres|            431869.11|           4582242.95|   2.183990263| 41.386983751|\n",
      "| 2023S006298    |             2|     Eixample|        10|         Sant Antoni|     110803|             Entença|  0051 0051|              Dimecres|  2023|     10| Octubre|     25|      12|           Matí|                  Altres|            429285.49|           4581216.87|   2.153211639| 41.377519093|\n",
      "+----------------+--------------+-------------+----------+--------------------+-----------+--------------------+-----------+----------------------+------+-------+--------+-------+--------+---------------+------------------------+---------------------+---------------------+--------------+-------------+\n",
      "only showing top 20 rows\n",
      "\n"
     ]
    }
   ],
   "source": [
    "filrar_filas = sdf.filter(sdf[\"Descripcio_causa_mediata\"] == \"Altres\")\n",
    "\n",
    "filrar_filas.show()"
   ]
  },
  {
   "cell_type": "markdown",
   "metadata": {},
   "source": [
    "### Actividad 5: \n",
    "Calcula el número total de accidentes por distrito (Nom_districte). \n"
   ]
  },
  {
   "cell_type": "code",
   "execution_count": 51,
   "metadata": {},
   "outputs": [
    {
     "name": "stdout",
     "output_type": "stream",
     "text": [
      "+-------------------+-----+\n",
      "|      Nom_districte|count|\n",
      "+-------------------+-----+\n",
      "|             Gràcia|  434|\n",
      "|         Sant Martí| 1069|\n",
      "|     Horta-Guinardó|  651|\n",
      "|          Les Corts|  655|\n",
      "|     Sants-Montjuïc|  954|\n",
      "|         Nou Barris|  527|\n",
      "|Sarrià-Sant Gervasi|  977|\n",
      "|           Eixample| 2407|\n",
      "|         Desconegut|  104|\n",
      "|        Sant Andreu|  612|\n",
      "|       Ciutat Vella|  507|\n",
      "+-------------------+-----+\n",
      "\n"
     ]
    }
   ],
   "source": [
    "sdf.groupBy(\"Nom_districte\").count().show()"
   ]
  },
  {
   "cell_type": "markdown",
   "metadata": {},
   "source": [
    "### Actividad 6: \n",
    "Proporciona los estadisticos descriptivos de las variables que refieren al momento que se realizó el accidente: \"Mes_any\", \"Dia_mes\", \"Descripcion\".\n"
   ]
  },
  {
   "cell_type": "code",
   "execution_count": 52,
   "metadata": {},
   "outputs": [
    {
     "name": "stdout",
     "output_type": "stream",
     "text": [
      "+-------+-----------------+------------------+------------------+\n",
      "|summary|          Mes_any|           Dia_mes|          Hora_dia|\n",
      "+-------+-----------------+------------------+------------------+\n",
      "|  count|             8897|              8897|              8897|\n",
      "|   mean|6.507811621895021|15.778801843317972|13.793638305046645|\n",
      "| stddev| 3.38183273001346| 8.811542833036198|  5.41598187812183|\n",
      "|    min|                1|                 1|                 0|\n",
      "|    max|               12|                31|                23|\n",
      "+-------+-----------------+------------------+------------------+\n",
      "\n"
     ]
    }
   ],
   "source": [
    "sdf.select(\"Mes_any\", \"Dia_mes\", \"Hora_dia\").describe().show()"
   ]
  },
  {
   "cell_type": "code",
   "execution_count": 53,
   "metadata": {},
   "outputs": [
    {
     "name": "stdout",
     "output_type": "stream",
     "text": [
      "+-------+-------+-------+--------+\n",
      "|summary|Mes_any|Dia_mes|Hora_dia|\n",
      "+-------+-------+-------+--------+\n",
      "|  count| 8897.0| 8897.0|  8897.0|\n",
      "|   mean|   6.51|  15.78|   13.79|\n",
      "| stddev|   3.38|   8.81|    5.42|\n",
      "|    min|    1.0|    1.0|     0.0|\n",
      "|    max|   12.0|   31.0|    23.0|\n",
      "+-------+-------+-------+--------+\n",
      "\n"
     ]
    }
   ],
   "source": [
    "descriptive_stats = sdf.select(\"Mes_any\", \"Dia_mes\", \"Hora_dia\").describe()\n",
    "\n",
    "# Redondear los resultados\n",
    "descriptive_stats = descriptive_stats.selectExpr(\n",
    "    \"summary\",\n",
    "    \"round(Mes_any, 2) as Mes_any\",\n",
    "    \"round(Dia_mes, 2) as Dia_mes\",\n",
    "    \"round(Hora_dia, 2) as Hora_dia\"\n",
    ")\n",
    "\n",
    "# Mostrar los resultados\n",
    "descriptive_stats.show()"
   ]
  },
  {
   "cell_type": "markdown",
   "metadata": {},
   "source": [
    "### Actividad 7\n",
    "\n",
    "\n",
    "Calcula cuántos accidentes hay por día de la semana (Descripcio_dia_setmana).\n"
   ]
  },
  {
   "cell_type": "code",
   "execution_count": 54,
   "metadata": {},
   "outputs": [
    {
     "name": "stdout",
     "output_type": "stream",
     "text": [
      "+----------------------+-----+\n",
      "|Descripcio_dia_setmana|count|\n",
      "+----------------------+-----+\n",
      "|               Dilluns| 1340|\n",
      "|              Dissabte| 1054|\n",
      "|               Dimarts| 1364|\n",
      "|             Divendres| 1455|\n",
      "|                Dijous| 1414|\n",
      "|              Diumenge|  842|\n",
      "|              Dimecres| 1428|\n",
      "+----------------------+-----+\n",
      "\n"
     ]
    }
   ],
   "source": [
    "sdf.groupBy(\"Descripcio_dia_setmana\").count().show()"
   ]
  },
  {
   "cell_type": "markdown",
   "metadata": {},
   "source": [
    "### Actividad 8\n",
    "Ingresa la última actividad que es necesaria realizar"
   ]
  },
  {
   "cell_type": "code",
   "execution_count": 55,
   "metadata": {},
   "outputs": [],
   "source": [
    "# Cerrar la sesión de Spark\n",
    "spark.stop()"
   ]
  }
 ],
 "metadata": {
  "kernelspec": {
   "display_name": "base",
   "language": "python",
   "name": "python3"
  },
  "language_info": {
   "codemirror_mode": {
    "name": "ipython",
    "version": 3
   },
   "file_extension": ".py",
   "mimetype": "text/x-python",
   "name": "python",
   "nbconvert_exporter": "python",
   "pygments_lexer": "ipython3",
   "version": "3.11.5"
  }
 },
 "nbformat": 4,
 "nbformat_minor": 2
}
