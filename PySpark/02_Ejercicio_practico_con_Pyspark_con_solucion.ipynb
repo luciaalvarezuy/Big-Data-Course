{
 "cells": [
  {
   "cell_type": "markdown",
   "metadata": {},
   "source": [
    "## Ejercicio Práctico: Introducción a PySpark\n",
    "\n",
    "### Objetivo:\n",
    "Este ejercicio tiene como objetivo familiarizarte con la creación y manipulación de RDDs (Resilient Distributed Datasets) utilizando PySpark. Aprenderás a realizar transformaciones y acciones básicas en RDDs.\n",
    "\n",
    "### Instrucciones:\n",
    "1. Crear un RDD a partir de una lista de números.\n",
    "2. Mostrar el contenido del RDD.\n",
    "3. Realizar una transformación en el RDD.\n",
    "4. Filtrar los datos transformados.\n",
    "5. Contar y recolectar los elementos del RDD resultante.\n",
    "\n",
    "\n",
    "### A continuación, se va a mencionar qué pasos hay que seguir\n",
    "#### 01. Configuración del entorno Spark\n",
    "- Asegúrate de tener PySpark instalado.\n",
    "- Inicia el contexto y la sesión de Spark."
   ]
  },
  {
   "cell_type": "code",
   "execution_count": 15,
   "metadata": {},
   "outputs": [],
   "source": [
    "# Ingresar código\n",
    "\n",
    "import findspark\n",
    "findspark.init()\n",
    "\n",
    "from pyspark import SparkConf, SparkContext\n",
    "from pyspark.sql import SparkSession\n",
    "\n",
    "conf = SparkConf().setAppName(\"Ejercicio Práctico\").setMaster(\"local\")\n",
    "sc = SparkContext(conf=conf)\n",
    "spark = SparkSession.builder.appName(\"Ejercicio Práctico\").getOrCreate()\n"
   ]
  },
  {
   "cell_type": "markdown",
   "metadata": {},
   "source": [
    "#### Si les aparece este problema:\n",
    "```\n",
    "\n",
    "ValueError: Cannot run multiple SparkContexts at once; existing SparkContext(app=Ejercicio Práctico, master=local) created by __init__ at /tmp/ipykernel_11231/3495782143.py:10 \n",
    "\n",
    "```\n",
    "\n",
    "#### Es necesario ejecutar:"
   ]
  },
  {
   "cell_type": "code",
   "execution_count": 8,
   "metadata": {},
   "outputs": [
    {
     "name": "stdout",
     "output_type": "stream",
     "text": [
      "SparkSession está activa y lista para usar.\n"
     ]
    }
   ],
   "source": [
    "# Detener cualquier SparkContext existente\n",
    "if 'sc' in locals():\n",
    "    sc.stop()\n",
    "\n",
    "# Crear un Spark Context\n",
    "sc = SparkContext(conf=conf)\n",
    "\n",
    "# Crear una Spark Session con un nuevo nombre\n",
    "spark = SparkSession.builder \\\n",
    "    .appName(\"Spark Session2\") \\\n",
    "    .getOrCreate()\n",
    "\n",
    "# Verificar si la Spark Session está activa\n",
    "if 'spark' in locals() and isinstance(spark, SparkSession):\n",
    "    print(\"SparkSession está activa y lista para usar.\")\n",
    "else:\n",
    "    print(\"SparkSession no está activa. Por favor, crea una SparkSession.\")"
   ]
  },
  {
   "cell_type": "markdown",
   "metadata": {},
   "source": [
    "#### 02. Crear un RDD\n",
    "Crea un RDD a partir de una lista de números del 1 al 20.\n"
   ]
  },
  {
   "cell_type": "code",
   "execution_count": 16,
   "metadata": {},
   "outputs": [],
   "source": [
    "# Ingresar código\n",
    "data = range(1, 21)\n",
    "dataRDD = sc.parallelize(data)"
   ]
  },
  {
   "cell_type": "markdown",
   "metadata": {},
   "source": [
    "#### 03. Mostrar el contenido del RDD"
   ]
  },
  {
   "cell_type": "code",
   "execution_count": 17,
   "metadata": {},
   "outputs": [
    {
     "name": "stderr",
     "output_type": "stream",
     "text": [
      "[Stage 0:>                                                          (0 + 1) / 1]\r"
     ]
    },
    {
     "name": "stdout",
     "output_type": "stream",
     "text": [
      "Contenido del RDD: [1, 2, 3, 4, 5, 6, 7, 8, 9, 10, 11, 12, 13, 14, 15, 16, 17, 18, 19, 20]\n"
     ]
    },
    {
     "name": "stderr",
     "output_type": "stream",
     "text": [
      "                                                                                \r"
     ]
    }
   ],
   "source": [
    "print(\"Contenido del RDD:\", dataRDD.collect())"
   ]
  },
  {
   "cell_type": "markdown",
   "metadata": {},
   "source": [
    "#### 04. Realizar una transformación\n",
    "Incrementa cada número en el RDD en 10."
   ]
  },
  {
   "cell_type": "code",
   "execution_count": 18,
   "metadata": {},
   "outputs": [],
   "source": [
    "# Ingresar código\n",
    "incrementedRDD = dataRDD.map(lambda x: x + 10)"
   ]
  },
  {
   "cell_type": "markdown",
   "metadata": {},
   "source": [
    "#### 05. Filtrar los datos\n",
    "Filtra los números para conservar solo aquellos mayores a 20."
   ]
  },
  {
   "cell_type": "code",
   "execution_count": 19,
   "metadata": {},
   "outputs": [],
   "source": [
    "# Ingresar código\n",
    "filteredRDD = incrementedRDD.filter(lambda x: x > 20)"
   ]
  },
  {
   "cell_type": "markdown",
   "metadata": {},
   "source": [
    "#### 06. Acciones en el RDD\n",
    "- Imprime los elementos del RDD resultante.\n",
    "- Di cuantos elementos hay en el RDD resultante."
   ]
  },
  {
   "cell_type": "code",
   "execution_count": 20,
   "metadata": {},
   "outputs": [
    {
     "name": "stdout",
     "output_type": "stream",
     "text": [
      "Elementos del RDD filtrado: [21, 22, 23, 24, 25, 26, 27, 28, 29, 30]\n",
      "Cantidad de elementos en el RDD filtrado: 10\n"
     ]
    }
   ],
   "source": [
    "# Ingresar código\n",
    "print(\"Elementos del RDD filtrado:\", filteredRDD.collect())\n",
    "print(\"Cantidad de elementos en el RDD filtrado:\", filteredRDD.count())"
   ]
  },
  {
   "cell_type": "markdown",
   "metadata": {},
   "source": [
    "#### Ejecutar la última acción recomendada para finalizar la actividad"
   ]
  },
  {
   "cell_type": "code",
   "execution_count": 21,
   "metadata": {},
   "outputs": [],
   "source": [
    "# Detener la sesión de spark\n",
    "spark.stop() "
   ]
  }
 ],
 "metadata": {
  "kernelspec": {
   "display_name": "base",
   "language": "python",
   "name": "python3"
  },
  "language_info": {
   "codemirror_mode": {
    "name": "ipython",
    "version": 3
   },
   "file_extension": ".py",
   "mimetype": "text/x-python",
   "name": "python",
   "nbconvert_exporter": "python",
   "pygments_lexer": "ipython3",
   "version": "3.8.10"
  }
 },
 "nbformat": 4,
 "nbformat_minor": 2
}
