{
 "cells": [
  {
   "cell_type": "markdown",
   "metadata": {},
   "source": [
    "# Introducción a Python\n",
    "\n",
    "En esta notebook, vamos a realizar algunos ejercicios de Python para comprender los conceptos fundamentales de este lenguaje de programación. Este es el primer acercamiento para aquellos que no tienen experiencia previa en programación o en Python.\n",
    "\n",
    "### Objetivos:\n",
    "- Aprender a usar la función `print` para mostrar mensajes en la pantalla.\n",
    "- Comprender las variables y los tipos de datos básicos.\n",
    "- Practicar cómo solicitar entradas del usuario mediante `input`.\n",
    "- Introducir las estructuras de control, específicamente las condicionales.\n",
    "\n",
    "### Actividades a Trabajar:\n",
    "1. **Print \"Hola Mundo\"**: Aprenderemos cómo mostrar mensajes en la pantalla.\n",
    "2. **Variables y Tipos de Datos**: Exploraremos cómo declarar variables y los diferentes tipos de datos que podemos manejar en Python.\n",
    "3. **Inputs**: Practicaremos cómo solicitar datos al usuario y cómo trabajar con esos datos.\n",
    "4. **Estructuras de Control (Condicionales)**: Introduciremos las estructuras condicionales para tomar decisiones en el código basado en ciertas condiciones.\n",
    "\n",
    "¡Comencemos!\n",
    "\n",
    "\n",
    "\n",
    "#### Primer ejercicio: Hola mundo"
   ]
  },
  {
   "cell_type": "code",
   "execution_count": 5,
   "metadata": {},
   "outputs": [
    {
     "name": "stdout",
     "output_type": "stream",
     "text": [
      "Hola Mundo\n"
     ]
    }
   ],
   "source": [
    "print(\"Hola Mundo\")"
   ]
  },
  {
   "cell_type": "markdown",
   "metadata": {},
   "source": [
    "#### Segundo ejercicio: Variables y tipos de datos"
   ]
  },
  {
   "cell_type": "code",
   "execution_count": 6,
   "metadata": {},
   "outputs": [
    {
     "name": "stdout",
     "output_type": "stream",
     "text": [
      "Nombre: Juan\n",
      "Edad: 28\n",
      "Altura: 1.75\n",
      "¿Es estudiante? True\n"
     ]
    }
   ],
   "source": [
    "# Definir variables\n",
    "nombre = \"Juan\"\n",
    "edad = 28\n",
    "altura = 1.75\n",
    "es_estudiante = True\n",
    "\n",
    "# Imprimir variables\n",
    "print(\"Nombre:\", nombre)\n",
    "print(\"Edad:\", edad)\n",
    "print(\"Altura:\", altura)\n",
    "print(\"¿Es estudiante?\", es_estudiante)"
   ]
  },
  {
   "cell_type": "markdown",
   "metadata": {},
   "source": [
    "#### Tercer ejercicio: Inputs"
   ]
  },
  {
   "cell_type": "code",
   "execution_count": 7,
   "metadata": {},
   "outputs": [
    {
     "name": "stdout",
     "output_type": "stream",
     "text": [
      "\n",
      "--- Resultados ---\n",
      "Hola  Lu  gusto en conocerte. En el registro se menciona que tienes  28  años de edad.\n"
     ]
    }
   ],
   "source": [
    "# Solicitar el nombre del usuario\n",
    "nombre = input(\"Por favor, ingrese su nombre: \")\n",
    "\n",
    "# Solicitar la edad del usuario\n",
    "edad = int(input(\"Por favor, ingrese su edad: \"))\n",
    "\n",
    "\n",
    "# Imprimir los resultados\n",
    "print(\"\\n--- Resultados ---\")\n",
    "print(\"Hola \", nombre, \" gusto en conocerte. En el registro se menciona que tienes \", edad , \" años de edad.\")\n"
   ]
  },
  {
   "cell_type": "markdown",
   "metadata": {},
   "source": [
    "#### Cuarto ejercicio: Estructuras de Control (Condicionales)"
   ]
  },
  {
   "cell_type": "code",
   "execution_count": 8,
   "metadata": {},
   "outputs": [
    {
     "name": "stdout",
     "output_type": "stream",
     "text": [
      "Eres un adulto.\n"
     ]
    }
   ],
   "source": [
    "# Solicitar la edad del usuario\n",
    "edad = int(input(\"Por favor, ingrese su edad: \"))\n",
    "\n",
    "# Usar condicionales para determinar la categoría de edad\n",
    "if edad < 18:\n",
    "    print(\"Eres menor de edad.\")\n",
    "elif 18 <= edad < 65:\n",
    "    print(\"Eres un adulto.\")\n",
    "else:\n",
    "    print(\"Eres un adulto mayor.\")"
   ]
  }
 ],
 "metadata": {
  "kernelspec": {
   "display_name": "base",
   "language": "python",
   "name": "python3"
  },
  "language_info": {
   "codemirror_mode": {
    "name": "ipython",
    "version": 3
   },
   "file_extension": ".py",
   "mimetype": "text/x-python",
   "name": "python",
   "nbconvert_exporter": "python",
   "pygments_lexer": "ipython3",
   "version": "3.11.5"
  }
 },
 "nbformat": 4,
 "nbformat_minor": 2
}
